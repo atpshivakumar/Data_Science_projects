{
 "cells": [
  {
   "cell_type": "markdown",
   "metadata": {
    "id": "uqV4606ggvoC"
   },
   "source": [
    "# **Machine learning **\n",
    "\n",
    "## Water potability dataset*\n",
    "\n",
    "\n"
   ]
  },
  {
   "cell_type": "markdown",
   "metadata": {
    "id": "kB95rXbloIym"
   },
   "source": [
    "###Importing required libraries"
   ]
  },
  {
   "cell_type": "code",
   "execution_count": null,
   "metadata": {
    "colab": {
     "base_uri": "https://localhost:8080/"
    },
    "id": "NuxoybCI2DYl",
    "outputId": "5c1d34c7-9b14-4afa-8646-9ddda95360d0"
   },
   "outputs": [
    {
     "name": "stdout",
     "output_type": "stream",
     "text": [
      "Looking in indexes: https://pypi.org/simple, https://us-python.pkg.dev/colab-wheels/public/simple/\n",
      "Requirement already satisfied: wget in /usr/local/lib/python3.7/dist-packages (3.2)\n"
     ]
    }
   ],
   "source": [
    "!pip install wget"
   ]
  },
  {
   "cell_type": "code",
   "execution_count": null,
   "metadata": {
    "id": "yINJumfZhHGC"
   },
   "outputs": [],
   "source": [
    "import numpy as np\n",
    "import wget\n",
    "import pandas as pd\n",
    "import seaborn as sns \n",
    "import matplotlib.pyplot as pyplot\n",
    "from sklearn import preprocessing\n",
    "from sklearn.metrics import confusion_matrix, ConfusionMatrixDisplay \n",
    "from sklearn.metrics import classification_report\n",
    "from sklearn.metrics import plot_roc_curve\n",
    "from sklearn.preprocessing import MinMaxScaler\n",
    "from sklearn.linear_model import LogisticRegression\n",
    "import warnings\n"
   ]
  },
  {
   "cell_type": "markdown",
   "metadata": {
    "id": "wyF1zNgzM1v5"
   },
   "source": [
    "###Downloading of dataset from the given drive link."
   ]
  },
  {
   "cell_type": "code",
   "execution_count": null,
   "metadata": {
    "colab": {
     "base_uri": "https://localhost:8080/"
    },
    "id": "vYzRpUdbuLSj",
    "outputId": "808cc3d7-4b21-425f-cc7d-6294d15f377d"
   },
   "outputs": [
    {
     "name": "stdout",
     "output_type": "stream",
     "text": [
      "water_potability.csv\n"
     ]
    }
   ],
   "source": [
    "site_url = 'https://docs.google.com/uc?export=download&id=1mHMRXZSrWrxMsvgkvaQ2G6A5NjVDvS4z'\n",
    "file_name = wget.download(site_url)\n",
    "print(file_name)"
   ]
  },
  {
   "cell_type": "markdown",
   "metadata": {
    "id": "WzVrPQNLoP9h"
   },
   "source": [
    "###reading csv using pandas\n"
   ]
  },
  {
   "cell_type": "code",
   "execution_count": null,
   "metadata": {
    "id": "A6HXcg2-hRaf"
   },
   "outputs": [],
   "source": [
    "df_waterpot=pd.read_csv('water_potability.csv')"
   ]
  },
  {
   "cell_type": "markdown",
   "metadata": {
    "id": "k7HFS9ClqULW"
   },
   "source": [
    "###Displaying data in the csv file,converting potability column to category and describing the dataset\n"
   ]
  },
  {
   "cell_type": "code",
   "execution_count": null,
   "metadata": {
    "colab": {
     "base_uri": "https://localhost:8080/",
     "height": 112
    },
    "id": "9aA4ze9hwnNL",
    "outputId": "927a2072-b4c2-47d2-b27c-8823da7bf9c2"
   },
   "outputs": [
    {
     "data": {
      "text/html": [
       "\n",
       "  <div id=\"df-88419290-6f20-4639-ac79-65576f8dd1ba\">\n",
       "    <div class=\"colab-df-container\">\n",
       "      <div>\n",
       "<style scoped>\n",
       "    .dataframe tbody tr th:only-of-type {\n",
       "        vertical-align: middle;\n",
       "    }\n",
       "\n",
       "    .dataframe tbody tr th {\n",
       "        vertical-align: top;\n",
       "    }\n",
       "\n",
       "    .dataframe thead th {\n",
       "        text-align: right;\n",
       "    }\n",
       "</style>\n",
       "<table border=\"1\" class=\"dataframe\">\n",
       "  <thead>\n",
       "    <tr style=\"text-align: right;\">\n",
       "      <th></th>\n",
       "      <th>ph</th>\n",
       "      <th>Hardness</th>\n",
       "      <th>Solids</th>\n",
       "      <th>Chloramines</th>\n",
       "      <th>Sulfate</th>\n",
       "      <th>Conductivity</th>\n",
       "      <th>Organic_carbon</th>\n",
       "      <th>Trihalomethanes</th>\n",
       "      <th>Turbidity</th>\n",
       "      <th>Potability</th>\n",
       "    </tr>\n",
       "  </thead>\n",
       "  <tbody>\n",
       "    <tr>\n",
       "      <th>0</th>\n",
       "      <td>NaN</td>\n",
       "      <td>204.890455</td>\n",
       "      <td>20791.318981</td>\n",
       "      <td>7.300212</td>\n",
       "      <td>368.516441</td>\n",
       "      <td>564.308654</td>\n",
       "      <td>10.379783</td>\n",
       "      <td>86.990970</td>\n",
       "      <td>2.963135</td>\n",
       "      <td>0</td>\n",
       "    </tr>\n",
       "    <tr>\n",
       "      <th>1</th>\n",
       "      <td>3.71608</td>\n",
       "      <td>129.422921</td>\n",
       "      <td>18630.057858</td>\n",
       "      <td>6.635246</td>\n",
       "      <td>NaN</td>\n",
       "      <td>592.885359</td>\n",
       "      <td>15.180013</td>\n",
       "      <td>56.329076</td>\n",
       "      <td>4.500656</td>\n",
       "      <td>0</td>\n",
       "    </tr>\n",
       "  </tbody>\n",
       "</table>\n",
       "</div>\n",
       "      <button class=\"colab-df-convert\" onclick=\"convertToInteractive('df-88419290-6f20-4639-ac79-65576f8dd1ba')\"\n",
       "              title=\"Convert this dataframe to an interactive table.\"\n",
       "              style=\"display:none;\">\n",
       "        \n",
       "  <svg xmlns=\"http://www.w3.org/2000/svg\" height=\"24px\"viewBox=\"0 0 24 24\"\n",
       "       width=\"24px\">\n",
       "    <path d=\"M0 0h24v24H0V0z\" fill=\"none\"/>\n",
       "    <path d=\"M18.56 5.44l.94 2.06.94-2.06 2.06-.94-2.06-.94-.94-2.06-.94 2.06-2.06.94zm-11 1L8.5 8.5l.94-2.06 2.06-.94-2.06-.94L8.5 2.5l-.94 2.06-2.06.94zm10 10l.94 2.06.94-2.06 2.06-.94-2.06-.94-.94-2.06-.94 2.06-2.06.94z\"/><path d=\"M17.41 7.96l-1.37-1.37c-.4-.4-.92-.59-1.43-.59-.52 0-1.04.2-1.43.59L10.3 9.45l-7.72 7.72c-.78.78-.78 2.05 0 2.83L4 21.41c.39.39.9.59 1.41.59.51 0 1.02-.2 1.41-.59l7.78-7.78 2.81-2.81c.8-.78.8-2.07 0-2.86zM5.41 20L4 18.59l7.72-7.72 1.47 1.35L5.41 20z\"/>\n",
       "  </svg>\n",
       "      </button>\n",
       "      \n",
       "  <style>\n",
       "    .colab-df-container {\n",
       "      display:flex;\n",
       "      flex-wrap:wrap;\n",
       "      gap: 12px;\n",
       "    }\n",
       "\n",
       "    .colab-df-convert {\n",
       "      background-color: #E8F0FE;\n",
       "      border: none;\n",
       "      border-radius: 50%;\n",
       "      cursor: pointer;\n",
       "      display: none;\n",
       "      fill: #1967D2;\n",
       "      height: 32px;\n",
       "      padding: 0 0 0 0;\n",
       "      width: 32px;\n",
       "    }\n",
       "\n",
       "    .colab-df-convert:hover {\n",
       "      background-color: #E2EBFA;\n",
       "      box-shadow: 0px 1px 2px rgba(60, 64, 67, 0.3), 0px 1px 3px 1px rgba(60, 64, 67, 0.15);\n",
       "      fill: #174EA6;\n",
       "    }\n",
       "\n",
       "    [theme=dark] .colab-df-convert {\n",
       "      background-color: #3B4455;\n",
       "      fill: #D2E3FC;\n",
       "    }\n",
       "\n",
       "    [theme=dark] .colab-df-convert:hover {\n",
       "      background-color: #434B5C;\n",
       "      box-shadow: 0px 1px 3px 1px rgba(0, 0, 0, 0.15);\n",
       "      filter: drop-shadow(0px 1px 2px rgba(0, 0, 0, 0.3));\n",
       "      fill: #FFFFFF;\n",
       "    }\n",
       "  </style>\n",
       "\n",
       "      <script>\n",
       "        const buttonEl =\n",
       "          document.querySelector('#df-88419290-6f20-4639-ac79-65576f8dd1ba button.colab-df-convert');\n",
       "        buttonEl.style.display =\n",
       "          google.colab.kernel.accessAllowed ? 'block' : 'none';\n",
       "\n",
       "        async function convertToInteractive(key) {\n",
       "          const element = document.querySelector('#df-88419290-6f20-4639-ac79-65576f8dd1ba');\n",
       "          const dataTable =\n",
       "            await google.colab.kernel.invokeFunction('convertToInteractive',\n",
       "                                                     [key], {});\n",
       "          if (!dataTable) return;\n",
       "\n",
       "          const docLinkHtml = 'Like what you see? Visit the ' +\n",
       "            '<a target=\"_blank\" href=https://colab.research.google.com/notebooks/data_table.ipynb>data table notebook</a>'\n",
       "            + ' to learn more about interactive tables.';\n",
       "          element.innerHTML = '';\n",
       "          dataTable['output_type'] = 'display_data';\n",
       "          await google.colab.output.renderOutput(dataTable, element);\n",
       "          const docLink = document.createElement('div');\n",
       "          docLink.innerHTML = docLinkHtml;\n",
       "          element.appendChild(docLink);\n",
       "        }\n",
       "      </script>\n",
       "    </div>\n",
       "  </div>\n",
       "  "
      ],
      "text/plain": [
       "        ph    Hardness        Solids  Chloramines     Sulfate  Conductivity  \\\n",
       "0      NaN  204.890455  20791.318981     7.300212  368.516441    564.308654   \n",
       "1  3.71608  129.422921  18630.057858     6.635246         NaN    592.885359   \n",
       "\n",
       "   Organic_carbon  Trihalomethanes  Turbidity  Potability  \n",
       "0       10.379783        86.990970   2.963135           0  \n",
       "1       15.180013        56.329076   4.500656           0  "
      ]
     },
     "execution_count": 9,
     "metadata": {},
     "output_type": "execute_result"
    }
   ],
   "source": [
    "df_waterpot.head(2)"
   ]
  },
  {
   "cell_type": "markdown",
   "metadata": {
    "id": "9UrBviZVGEV_"
   },
   "source": [
    "###Removing duplicate data from the dataset if exist"
   ]
  },
  {
   "cell_type": "code",
   "execution_count": null,
   "metadata": {
    "colab": {
     "base_uri": "https://localhost:8080/"
    },
    "id": "E9w2Ashnhq7d",
    "outputId": "cf8c6413-63c5-475b-fb0f-ea1ca35cc91e"
   },
   "outputs": [
    {
     "name": "stdout",
     "output_type": "stream",
     "text": [
      "Empty DataFrame\n",
      "Columns: [ph, Hardness, Solids, Chloramines, Sulfate, Conductivity, Organic_carbon, Trihalomethanes, Turbidity, Potability]\n",
      "Index: []\n"
     ]
    },
    {
     "data": {
      "text/plain": [
       "(3276, 10)"
      ]
     },
     "execution_count": 10,
     "metadata": {},
     "output_type": "execute_result"
    }
   ],
   "source": [
    "duplicate = df_waterpot[df_waterpot.duplicated()]\n",
    "print(duplicate)\n",
    "#no duplicates in the dataset\n",
    "df_waterpot.shape"
   ]
  },
  {
   "cell_type": "code",
   "execution_count": null,
   "metadata": {
    "colab": {
     "base_uri": "https://localhost:8080/"
    },
    "id": "ATGpm-Yesm2C",
    "outputId": "d13d6d14-6a8b-43a0-8edc-57112ef0c54e"
   },
   "outputs": [
    {
     "data": {
      "text/plain": [
       "ph                 float64\n",
       "Hardness           float64\n",
       "Solids             float64\n",
       "Chloramines        float64\n",
       "Sulfate            float64\n",
       "Conductivity       float64\n",
       "Organic_carbon     float64\n",
       "Trihalomethanes    float64\n",
       "Turbidity          float64\n",
       "Potability           int64\n",
       "dtype: object"
      ]
     },
     "execution_count": 11,
     "metadata": {},
     "output_type": "execute_result"
    }
   ],
   "source": [
    "df_waterpot.dtypes"
   ]
  },
  {
   "cell_type": "code",
   "execution_count": null,
   "metadata": {
    "colab": {
     "base_uri": "https://localhost:8080/",
     "height": 300
    },
    "id": "2jNpiML4sm2E",
    "outputId": "7afff154-2b00-4b03-f2c0-ac1406b5a48b"
   },
   "outputs": [
    {
     "data": {
      "text/html": [
       "\n",
       "  <div id=\"df-3d462f2a-f556-4b5c-85dd-5f8d32da9b49\">\n",
       "    <div class=\"colab-df-container\">\n",
       "      <div>\n",
       "<style scoped>\n",
       "    .dataframe tbody tr th:only-of-type {\n",
       "        vertical-align: middle;\n",
       "    }\n",
       "\n",
       "    .dataframe tbody tr th {\n",
       "        vertical-align: top;\n",
       "    }\n",
       "\n",
       "    .dataframe thead th {\n",
       "        text-align: right;\n",
       "    }\n",
       "</style>\n",
       "<table border=\"1\" class=\"dataframe\">\n",
       "  <thead>\n",
       "    <tr style=\"text-align: right;\">\n",
       "      <th></th>\n",
       "      <th>ph</th>\n",
       "      <th>Hardness</th>\n",
       "      <th>Solids</th>\n",
       "      <th>Chloramines</th>\n",
       "      <th>Sulfate</th>\n",
       "      <th>Conductivity</th>\n",
       "      <th>Organic_carbon</th>\n",
       "      <th>Trihalomethanes</th>\n",
       "      <th>Turbidity</th>\n",
       "      <th>Potability</th>\n",
       "    </tr>\n",
       "  </thead>\n",
       "  <tbody>\n",
       "    <tr>\n",
       "      <th>count</th>\n",
       "      <td>2785.000000</td>\n",
       "      <td>3276.000000</td>\n",
       "      <td>3276.000000</td>\n",
       "      <td>3276.000000</td>\n",
       "      <td>2495.000000</td>\n",
       "      <td>3276.000000</td>\n",
       "      <td>3276.000000</td>\n",
       "      <td>3114.000000</td>\n",
       "      <td>3276.000000</td>\n",
       "      <td>3276.000000</td>\n",
       "    </tr>\n",
       "    <tr>\n",
       "      <th>mean</th>\n",
       "      <td>7.080795</td>\n",
       "      <td>196.369496</td>\n",
       "      <td>22014.092526</td>\n",
       "      <td>7.122277</td>\n",
       "      <td>333.775777</td>\n",
       "      <td>426.205111</td>\n",
       "      <td>14.284970</td>\n",
       "      <td>66.396293</td>\n",
       "      <td>3.966786</td>\n",
       "      <td>0.390110</td>\n",
       "    </tr>\n",
       "    <tr>\n",
       "      <th>std</th>\n",
       "      <td>1.594320</td>\n",
       "      <td>32.879761</td>\n",
       "      <td>8768.570828</td>\n",
       "      <td>1.583085</td>\n",
       "      <td>41.416840</td>\n",
       "      <td>80.824064</td>\n",
       "      <td>3.308162</td>\n",
       "      <td>16.175008</td>\n",
       "      <td>0.780382</td>\n",
       "      <td>0.487849</td>\n",
       "    </tr>\n",
       "    <tr>\n",
       "      <th>min</th>\n",
       "      <td>0.000000</td>\n",
       "      <td>47.432000</td>\n",
       "      <td>320.942611</td>\n",
       "      <td>0.352000</td>\n",
       "      <td>129.000000</td>\n",
       "      <td>181.483754</td>\n",
       "      <td>2.200000</td>\n",
       "      <td>0.738000</td>\n",
       "      <td>1.450000</td>\n",
       "      <td>0.000000</td>\n",
       "    </tr>\n",
       "    <tr>\n",
       "      <th>25%</th>\n",
       "      <td>6.093092</td>\n",
       "      <td>176.850538</td>\n",
       "      <td>15666.690297</td>\n",
       "      <td>6.127421</td>\n",
       "      <td>307.699498</td>\n",
       "      <td>365.734414</td>\n",
       "      <td>12.065801</td>\n",
       "      <td>55.844536</td>\n",
       "      <td>3.439711</td>\n",
       "      <td>0.000000</td>\n",
       "    </tr>\n",
       "    <tr>\n",
       "      <th>50%</th>\n",
       "      <td>7.036752</td>\n",
       "      <td>196.967627</td>\n",
       "      <td>20927.833607</td>\n",
       "      <td>7.130299</td>\n",
       "      <td>333.073546</td>\n",
       "      <td>421.884968</td>\n",
       "      <td>14.218338</td>\n",
       "      <td>66.622485</td>\n",
       "      <td>3.955028</td>\n",
       "      <td>0.000000</td>\n",
       "    </tr>\n",
       "    <tr>\n",
       "      <th>75%</th>\n",
       "      <td>8.062066</td>\n",
       "      <td>216.667456</td>\n",
       "      <td>27332.762127</td>\n",
       "      <td>8.114887</td>\n",
       "      <td>359.950170</td>\n",
       "      <td>481.792304</td>\n",
       "      <td>16.557652</td>\n",
       "      <td>77.337473</td>\n",
       "      <td>4.500320</td>\n",
       "      <td>1.000000</td>\n",
       "    </tr>\n",
       "    <tr>\n",
       "      <th>max</th>\n",
       "      <td>14.000000</td>\n",
       "      <td>323.124000</td>\n",
       "      <td>61227.196008</td>\n",
       "      <td>13.127000</td>\n",
       "      <td>481.030642</td>\n",
       "      <td>753.342620</td>\n",
       "      <td>28.300000</td>\n",
       "      <td>124.000000</td>\n",
       "      <td>6.739000</td>\n",
       "      <td>1.000000</td>\n",
       "    </tr>\n",
       "  </tbody>\n",
       "</table>\n",
       "</div>\n",
       "      <button class=\"colab-df-convert\" onclick=\"convertToInteractive('df-3d462f2a-f556-4b5c-85dd-5f8d32da9b49')\"\n",
       "              title=\"Convert this dataframe to an interactive table.\"\n",
       "              style=\"display:none;\">\n",
       "        \n",
       "  <svg xmlns=\"http://www.w3.org/2000/svg\" height=\"24px\"viewBox=\"0 0 24 24\"\n",
       "       width=\"24px\">\n",
       "    <path d=\"M0 0h24v24H0V0z\" fill=\"none\"/>\n",
       "    <path d=\"M18.56 5.44l.94 2.06.94-2.06 2.06-.94-2.06-.94-.94-2.06-.94 2.06-2.06.94zm-11 1L8.5 8.5l.94-2.06 2.06-.94-2.06-.94L8.5 2.5l-.94 2.06-2.06.94zm10 10l.94 2.06.94-2.06 2.06-.94-2.06-.94-.94-2.06-.94 2.06-2.06.94z\"/><path d=\"M17.41 7.96l-1.37-1.37c-.4-.4-.92-.59-1.43-.59-.52 0-1.04.2-1.43.59L10.3 9.45l-7.72 7.72c-.78.78-.78 2.05 0 2.83L4 21.41c.39.39.9.59 1.41.59.51 0 1.02-.2 1.41-.59l7.78-7.78 2.81-2.81c.8-.78.8-2.07 0-2.86zM5.41 20L4 18.59l7.72-7.72 1.47 1.35L5.41 20z\"/>\n",
       "  </svg>\n",
       "      </button>\n",
       "      \n",
       "  <style>\n",
       "    .colab-df-container {\n",
       "      display:flex;\n",
       "      flex-wrap:wrap;\n",
       "      gap: 12px;\n",
       "    }\n",
       "\n",
       "    .colab-df-convert {\n",
       "      background-color: #E8F0FE;\n",
       "      border: none;\n",
       "      border-radius: 50%;\n",
       "      cursor: pointer;\n",
       "      display: none;\n",
       "      fill: #1967D2;\n",
       "      height: 32px;\n",
       "      padding: 0 0 0 0;\n",
       "      width: 32px;\n",
       "    }\n",
       "\n",
       "    .colab-df-convert:hover {\n",
       "      background-color: #E2EBFA;\n",
       "      box-shadow: 0px 1px 2px rgba(60, 64, 67, 0.3), 0px 1px 3px 1px rgba(60, 64, 67, 0.15);\n",
       "      fill: #174EA6;\n",
       "    }\n",
       "\n",
       "    [theme=dark] .colab-df-convert {\n",
       "      background-color: #3B4455;\n",
       "      fill: #D2E3FC;\n",
       "    }\n",
       "\n",
       "    [theme=dark] .colab-df-convert:hover {\n",
       "      background-color: #434B5C;\n",
       "      box-shadow: 0px 1px 3px 1px rgba(0, 0, 0, 0.15);\n",
       "      filter: drop-shadow(0px 1px 2px rgba(0, 0, 0, 0.3));\n",
       "      fill: #FFFFFF;\n",
       "    }\n",
       "  </style>\n",
       "\n",
       "      <script>\n",
       "        const buttonEl =\n",
       "          document.querySelector('#df-3d462f2a-f556-4b5c-85dd-5f8d32da9b49 button.colab-df-convert');\n",
       "        buttonEl.style.display =\n",
       "          google.colab.kernel.accessAllowed ? 'block' : 'none';\n",
       "\n",
       "        async function convertToInteractive(key) {\n",
       "          const element = document.querySelector('#df-3d462f2a-f556-4b5c-85dd-5f8d32da9b49');\n",
       "          const dataTable =\n",
       "            await google.colab.kernel.invokeFunction('convertToInteractive',\n",
       "                                                     [key], {});\n",
       "          if (!dataTable) return;\n",
       "\n",
       "          const docLinkHtml = 'Like what you see? Visit the ' +\n",
       "            '<a target=\"_blank\" href=https://colab.research.google.com/notebooks/data_table.ipynb>data table notebook</a>'\n",
       "            + ' to learn more about interactive tables.';\n",
       "          element.innerHTML = '';\n",
       "          dataTable['output_type'] = 'display_data';\n",
       "          await google.colab.output.renderOutput(dataTable, element);\n",
       "          const docLink = document.createElement('div');\n",
       "          docLink.innerHTML = docLinkHtml;\n",
       "          element.appendChild(docLink);\n",
       "        }\n",
       "      </script>\n",
       "    </div>\n",
       "  </div>\n",
       "  "
      ],
      "text/plain": [
       "                ph     Hardness        Solids  Chloramines      Sulfate  \\\n",
       "count  2785.000000  3276.000000   3276.000000  3276.000000  2495.000000   \n",
       "mean      7.080795   196.369496  22014.092526     7.122277   333.775777   \n",
       "std       1.594320    32.879761   8768.570828     1.583085    41.416840   \n",
       "min       0.000000    47.432000    320.942611     0.352000   129.000000   \n",
       "25%       6.093092   176.850538  15666.690297     6.127421   307.699498   \n",
       "50%       7.036752   196.967627  20927.833607     7.130299   333.073546   \n",
       "75%       8.062066   216.667456  27332.762127     8.114887   359.950170   \n",
       "max      14.000000   323.124000  61227.196008    13.127000   481.030642   \n",
       "\n",
       "       Conductivity  Organic_carbon  Trihalomethanes    Turbidity   Potability  \n",
       "count   3276.000000     3276.000000      3114.000000  3276.000000  3276.000000  \n",
       "mean     426.205111       14.284970        66.396293     3.966786     0.390110  \n",
       "std       80.824064        3.308162        16.175008     0.780382     0.487849  \n",
       "min      181.483754        2.200000         0.738000     1.450000     0.000000  \n",
       "25%      365.734414       12.065801        55.844536     3.439711     0.000000  \n",
       "50%      421.884968       14.218338        66.622485     3.955028     0.000000  \n",
       "75%      481.792304       16.557652        77.337473     4.500320     1.000000  \n",
       "max      753.342620       28.300000       124.000000     6.739000     1.000000  "
      ]
     },
     "execution_count": 12,
     "metadata": {},
     "output_type": "execute_result"
    }
   ],
   "source": [
    "df_waterpot.describe()"
   ]
  },
  {
   "cell_type": "markdown",
   "metadata": {
    "id": "2KLfZdvRY9Rm"
   },
   "source": [
    "###Feature engineering\n",
    ">Including 2 new features in the dataset using ph values and sulphates\n",
    "\n",
    ">1.  type of water\n",
    "2.  type of Hardness\n",
    "\n"
   ]
  },
  {
   "cell_type": "markdown",
   "metadata": {
    "id": "6VrkuQI_w7Qy"
   },
   "source": [
    "  \n",
    "\n",
    "Type of water | PH values \n",
    "-------------------|------------------\n",
    "Alkaline water| greater than 9\n",
    "Bottled waters labeled as alkaline| 8 to 9\n",
    "ocean water | 7.5 to 0\n",
    "Tap water | 7.5\n",
    "common bottled water | 6.5 to 7.5\n",
    "distilled reverse osmosis water | 5.5 to 6.5\n",
    "Acidic water | less than 5.5"
   ]
  },
  {
   "cell_type": "code",
   "execution_count": null,
   "metadata": {
    "colab": {
     "base_uri": "https://localhost:8080/"
    },
    "id": "SFYLVGSpZC3q",
    "outputId": "e39cd5b7-a9be-4d60-a4f8-2604660450a4"
   },
   "outputs": [
    {
     "name": "stdout",
     "output_type": "stream",
     "text": [
      "0                             Acidic water\n",
      "1                             Acidic water\n",
      "2       Bottled waters labeled as alkaline\n",
      "3       Bottled waters labeled as alkaline\n",
      "4                           Alkaline water\n",
      "                       ...                \n",
      "3271                          Acidic water\n",
      "3272                           Ocean water\n",
      "3273                        Alkaline water\n",
      "3274                          Acidic water\n",
      "3275                           Ocean water\n",
      "Name: Type of Water, Length: 3276, dtype: object\n"
     ]
    }
   ],
   "source": [
    "\n",
    "df_waterpot[\"Type of Water\"] = \"\"\n",
    "warnings.filterwarnings(\"ignore\")\n",
    "for i in range(0,len(df_waterpot)):\n",
    "    if (df_waterpot[\"ph\"][i] > 9):\n",
    "        df_waterpot[\"Type of Water\"][i] = \"Alkaline water\"\n",
    "    elif (df_waterpot[\"ph\"][i] <= 9 and df_waterpot[\"ph\"][i] > 8):\n",
    "        df_waterpot[\"Type of Water\"][i] = \"Bottled waters labeled as alkaline\"\n",
    "    elif (df_waterpot[\"ph\"][i] <= 8 and df_waterpot[\"ph\"][i] > 7.5 ):\n",
    "        df_waterpot[\"Type of Water\"][i] = \"Ocean water\"   \n",
    "    elif(df_waterpot[\"ph\"][i] == 7.5 ):\n",
    "        df_waterpot[\"Type of Water\"][i] = \"Tap water\"\n",
    "    elif(df_waterpot[\"ph\"][i] < 7.5 and df_waterpot[\"ph\"][i] >=6.5):\n",
    "        df_waterpot[\"Type of Water\"][i] = \"Common bottled waters\"\n",
    "    elif(df_waterpot[\"ph\"][i] < 6.5 and df_waterpot[\"ph\"][i] >=5.5):\n",
    "        df_waterpot[\"Type of Water\"][i] = \"Distilled reverse osmosis water\"\n",
    "    else:\n",
    "        df_waterpot[\"Type of Water\"][i] = \"Acidic water\"\n",
    "print(df_waterpot[\"Type of Water\"])\n",
    "\n"
   ]
  },
  {
   "cell_type": "markdown",
   "metadata": {
    "id": "oGXtq3zlzpLu"
   },
   "source": [
    "###Based on sulphate values in the water.\n",
    "Type of Hardness | values\n",
    "-----------------|----------\n",
    "soft water| less than 17.1\n",
    "slightly hard|17.1 to 60\n",
    "moderately hard|60 to 120\n",
    "hard|120 to 180\n",
    "very hard | greater than 180"
   ]
  },
  {
   "cell_type": "code",
   "execution_count": null,
   "metadata": {
    "colab": {
     "base_uri": "https://localhost:8080/"
    },
    "id": "vxHO80TfZsWs",
    "outputId": "39ef04f8-b055-424d-ef38-c4e9e4098432"
   },
   "outputs": [
    {
     "name": "stdout",
     "output_type": "stream",
     "text": [
      "0       Very Hard\n",
      "1            Hard\n",
      "2       Very Hard\n",
      "3       Very Hard\n",
      "4       Very Hard\n",
      "          ...    \n",
      "3271    Very Hard\n",
      "3272    Very Hard\n",
      "3273         Hard\n",
      "3274    Very Hard\n",
      "3275    Very Hard\n",
      "Name: Type of Hardness, Length: 3276, dtype: object\n"
     ]
    }
   ],
   "source": [
    "\n",
    "df_waterpot[\"Type of Hardness\"] = \"\"\n",
    "for i in range(0,len(df_waterpot)):\n",
    "    if (df_waterpot[\"Hardness\"][i] >=0  and df_waterpot[\"Hardness\"][i] < 17.1):\n",
    "        df_waterpot[\"Type of Hardness\"][i] = \"Soft\"\n",
    "    elif (df_waterpot[\"Hardness\"][i] >= 17.1 and df_waterpot[\"Hardness\"][i] < 60):\n",
    "        df_waterpot[\"Type of Hardness\"][i] = \"Slightly hard\"\n",
    "    elif (df_waterpot[\"Hardness\"][i] >= 60 and df_waterpot[\"Hardness\"][i] < 120 ):\n",
    "        df_waterpot[\"Type of Hardness\"][i] = \"Moderately hard\"   \n",
    "    elif(df_waterpot[\"Hardness\"][i] >= 120 and df_waterpot[\"Hardness\"][i] < 180):\n",
    "        df_waterpot[\"Type of Hardness\"][i] = \"Hard\"\n",
    "    else:\n",
    "         df_waterpot[\"Type of Hardness\"][i] = \"Very Hard\"\n",
    "print(df_waterpot[\"Type of Hardness\"])"
   ]
  },
  {
   "cell_type": "markdown",
   "metadata": {
    "id": "Kbkz7bqjaTrC"
   },
   "source": [
    "###Assigning unique values to the hardness and and type of water column"
   ]
  },
  {
   "cell_type": "code",
   "execution_count": null,
   "metadata": {
    "colab": {
     "base_uri": "https://localhost:8080/"
    },
    "id": "olcUAebAabcS",
    "outputId": "db085770-1f3e-4528-a391-309eeef7078c"
   },
   "outputs": [
    {
     "data": {
      "text/plain": [
       "ph                  float64\n",
       "Hardness            float64\n",
       "Solids              float64\n",
       "Chloramines         float64\n",
       "Sulfate             float64\n",
       "Conductivity        float64\n",
       "Organic_carbon      float64\n",
       "Trihalomethanes     float64\n",
       "Turbidity           float64\n",
       "Potability            int64\n",
       "Type of Water          int8\n",
       "Type of Hardness       int8\n",
       "dtype: object"
      ]
     },
     "execution_count": 15,
     "metadata": {},
     "output_type": "execute_result"
    }
   ],
   "source": [
    "\n",
    "df_waterpot['Type of Hardness']=df_waterpot['Type of Hardness'].astype('category')\n",
    "df_waterpot['Type of Water']=df_waterpot['Type of Water'].astype('category')\n",
    "\n",
    "df_waterpot['Type of Hardness']=df_waterpot['Type of Hardness'].cat.codes\n",
    "df_waterpot['Type of Water']=df_waterpot['Type of Water'].cat.codes\n",
    "df_waterpot.dtypes"
   ]
  },
  {
   "cell_type": "markdown",
   "metadata": {
    "id": "AesAqGh5pPrh"
   },
   "source": [
    "### Finding imbalance in the potability column and plotting it"
   ]
  },
  {
   "cell_type": "code",
   "execution_count": null,
   "metadata": {
    "colab": {
     "base_uri": "https://localhost:8080/"
    },
    "id": "h6FsebfAj8OQ",
    "outputId": "2771ded3-4964-485e-9f1c-992e7af7db7d"
   },
   "outputs": [
    {
     "data": {
      "text/plain": [
       "0    1998\n",
       "1    1278\n",
       "Name: Potability, dtype: int64"
      ]
     },
     "execution_count": 16,
     "metadata": {},
     "output_type": "execute_result"
    }
   ],
   "source": [
    "df_waterpot['Potability'].value_counts()"
   ]
  },
  {
   "cell_type": "code",
   "execution_count": null,
   "metadata": {
    "colab": {
     "base_uri": "https://localhost:8080/",
     "height": 296
    },
    "id": "2jVKTLX7sm2Y",
    "outputId": "f83c0a18-4161-4f96-a640-c485820cf5eb"
   },
   "outputs": [
    {
     "data": {
      "image/png": "[encoded data removed]",
      "text/plain": [
       "<Figure size 432x288 with 1 Axes>"
      ]
     },
     "metadata": {
      "needs_background": "light"
     },
     "output_type": "display_data"
    },
    {
     "data": {
      "text/plain": [
       "<Figure size 144x216 with 0 Axes>"
      ]
     },
     "metadata": {},
     "output_type": "display_data"
    }
   ],
   "source": [
    "g = sns.countplot(df_waterpot['Potability'])\n",
    "g.set_xticklabels(['Not Potability','Potability'])\n",
    "pyplot.figure(figsize=(2,3))\n",
    "pyplot.show()"
   ]
  },
  {
   "cell_type": "markdown",
   "metadata": {
    "id": "KV_yVPqarQLM"
   },
   "source": [
    "###Heatmap for given dataset with correlation\n",
    "\n",
    "There is no strong correlation between the potability and other features given in the dataset.\n",
    "This has effect on the accuracy of the model because when the target is strongly correlated to the features then we will have better accuracy in the data. \n",
    "`"
   ]
  },
  {
   "cell_type": "code",
   "execution_count": null,
   "metadata": {
    "colab": {
     "base_uri": "https://localhost:8080/",
     "height": 426
    },
    "id": "CE8eKa1vLSJF",
    "outputId": "ae9cc20a-0a20-40e5-f930-dbb44bf77b9f"
   },
   "outputs": [
    {
     "data": {
      "text/html": [
       "\n",
       "  <div id=\"df-6be4cbf6-2fe5-4d9d-8411-ae98c5ca1232\">\n",
       "    <div class=\"colab-df-container\">\n",
       "      <div>\n",
       "<style scoped>\n",
       "    .dataframe tbody tr th:only-of-type {\n",
       "        vertical-align: middle;\n",
       "    }\n",
       "\n",
       "    .dataframe tbody tr th {\n",
       "        vertical-align: top;\n",
       "    }\n",
       "\n",
       "    .dataframe thead th {\n",
       "        text-align: right;\n",
       "    }\n",
       "</style>\n",
       "<table border=\"1\" class=\"dataframe\">\n",
       "  <thead>\n",
       "    <tr style=\"text-align: right;\">\n",
       "      <th></th>\n",
       "      <th>ph</th>\n",
       "      <th>Hardness</th>\n",
       "      <th>Solids</th>\n",
       "      <th>Chloramines</th>\n",
       "      <th>Sulfate</th>\n",
       "      <th>Conductivity</th>\n",
       "      <th>Organic_carbon</th>\n",
       "      <th>Trihalomethanes</th>\n",
       "      <th>Turbidity</th>\n",
       "      <th>Potability</th>\n",
       "      <th>Type of Water</th>\n",
       "      <th>Type of Hardness</th>\n",
       "    </tr>\n",
       "  </thead>\n",
       "  <tbody>\n",
       "    <tr>\n",
       "      <th>ph</th>\n",
       "      <td>1.000000</td>\n",
       "      <td>0.082096</td>\n",
       "      <td>-0.089288</td>\n",
       "      <td>-0.034350</td>\n",
       "      <td>0.018203</td>\n",
       "      <td>0.018614</td>\n",
       "      <td>0.043503</td>\n",
       "      <td>0.003354</td>\n",
       "      <td>-0.039057</td>\n",
       "      <td>-0.003556</td>\n",
       "      <td>0.092425</td>\n",
       "      <td>0.081173</td>\n",
       "    </tr>\n",
       "    <tr>\n",
       "      <th>Hardness</th>\n",
       "      <td>0.082096</td>\n",
       "      <td>1.000000</td>\n",
       "      <td>-0.046899</td>\n",
       "      <td>-0.030054</td>\n",
       "      <td>-0.106923</td>\n",
       "      <td>-0.023915</td>\n",
       "      <td>0.003610</td>\n",
       "      <td>-0.013013</td>\n",
       "      <td>-0.014449</td>\n",
       "      <td>-0.013837</td>\n",
       "      <td>0.042998</td>\n",
       "      <td>0.720518</td>\n",
       "    </tr>\n",
       "    <tr>\n",
       "      <th>Solids</th>\n",
       "      <td>-0.089288</td>\n",
       "      <td>-0.046899</td>\n",
       "      <td>1.000000</td>\n",
       "      <td>-0.070148</td>\n",
       "      <td>-0.171804</td>\n",
       "      <td>0.013831</td>\n",
       "      <td>0.010242</td>\n",
       "      <td>-0.009143</td>\n",
       "      <td>0.019546</td>\n",
       "      <td>0.033743</td>\n",
       "      <td>-0.041538</td>\n",
       "      <td>-0.051475</td>\n",
       "    </tr>\n",
       "    <tr>\n",
       "      <th>Chloramines</th>\n",
       "      <td>-0.034350</td>\n",
       "      <td>-0.030054</td>\n",
       "      <td>-0.070148</td>\n",
       "      <td>1.000000</td>\n",
       "      <td>0.027244</td>\n",
       "      <td>-0.020486</td>\n",
       "      <td>-0.012653</td>\n",
       "      <td>0.017084</td>\n",
       "      <td>0.002363</td>\n",
       "      <td>0.023779</td>\n",
       "      <td>0.027407</td>\n",
       "      <td>-0.012953</td>\n",
       "    </tr>\n",
       "    <tr>\n",
       "      <th>Sulfate</th>\n",
       "      <td>0.018203</td>\n",
       "      <td>-0.106923</td>\n",
       "      <td>-0.171804</td>\n",
       "      <td>0.027244</td>\n",
       "      <td>1.000000</td>\n",
       "      <td>-0.016121</td>\n",
       "      <td>0.030831</td>\n",
       "      <td>-0.030274</td>\n",
       "      <td>-0.011187</td>\n",
       "      <td>-0.023577</td>\n",
       "      <td>-0.020322</td>\n",
       "      <td>-0.079327</td>\n",
       "    </tr>\n",
       "    <tr>\n",
       "      <th>Conductivity</th>\n",
       "      <td>0.018614</td>\n",
       "      <td>-0.023915</td>\n",
       "      <td>0.013831</td>\n",
       "      <td>-0.020486</td>\n",
       "      <td>-0.016121</td>\n",
       "      <td>1.000000</td>\n",
       "      <td>0.020966</td>\n",
       "      <td>0.001285</td>\n",
       "      <td>0.005798</td>\n",
       "      <td>-0.008128</td>\n",
       "      <td>0.004445</td>\n",
       "      <td>-0.044695</td>\n",
       "    </tr>\n",
       "    <tr>\n",
       "      <th>Organic_carbon</th>\n",
       "      <td>0.043503</td>\n",
       "      <td>0.003610</td>\n",
       "      <td>0.010242</td>\n",
       "      <td>-0.012653</td>\n",
       "      <td>0.030831</td>\n",
       "      <td>0.020966</td>\n",
       "      <td>1.000000</td>\n",
       "      <td>-0.013274</td>\n",
       "      <td>-0.027308</td>\n",
       "      <td>-0.030001</td>\n",
       "      <td>0.030657</td>\n",
       "      <td>-0.007251</td>\n",
       "    </tr>\n",
       "    <tr>\n",
       "      <th>Trihalomethanes</th>\n",
       "      <td>0.003354</td>\n",
       "      <td>-0.013013</td>\n",
       "      <td>-0.009143</td>\n",
       "      <td>0.017084</td>\n",
       "      <td>-0.030274</td>\n",
       "      <td>0.001285</td>\n",
       "      <td>-0.013274</td>\n",
       "      <td>1.000000</td>\n",
       "      <td>-0.022145</td>\n",
       "      <td>0.007130</td>\n",
       "      <td>0.002800</td>\n",
       "      <td>-0.016187</td>\n",
       "    </tr>\n",
       "    <tr>\n",
       "      <th>Turbidity</th>\n",
       "      <td>-0.039057</td>\n",
       "      <td>-0.014449</td>\n",
       "      <td>0.019546</td>\n",
       "      <td>0.002363</td>\n",
       "      <td>-0.011187</td>\n",
       "      <td>0.005798</td>\n",
       "      <td>-0.027308</td>\n",
       "      <td>-0.022145</td>\n",
       "      <td>1.000000</td>\n",
       "      <td>0.001581</td>\n",
       "      <td>0.010611</td>\n",
       "      <td>0.000181</td>\n",
       "    </tr>\n",
       "    <tr>\n",
       "      <th>Potability</th>\n",
       "      <td>-0.003556</td>\n",
       "      <td>-0.013837</td>\n",
       "      <td>0.033743</td>\n",
       "      <td>0.023779</td>\n",
       "      <td>-0.023577</td>\n",
       "      <td>-0.008128</td>\n",
       "      <td>-0.030001</td>\n",
       "      <td>0.007130</td>\n",
       "      <td>0.001581</td>\n",
       "      <td>1.000000</td>\n",
       "      <td>0.059332</td>\n",
       "      <td>-0.027849</td>\n",
       "    </tr>\n",
       "    <tr>\n",
       "      <th>Type of Water</th>\n",
       "      <td>0.092425</td>\n",
       "      <td>0.042998</td>\n",
       "      <td>-0.041538</td>\n",
       "      <td>0.027407</td>\n",
       "      <td>-0.020322</td>\n",
       "      <td>0.004445</td>\n",
       "      <td>0.030657</td>\n",
       "      <td>0.002800</td>\n",
       "      <td>0.010611</td>\n",
       "      <td>0.059332</td>\n",
       "      <td>1.000000</td>\n",
       "      <td>0.061518</td>\n",
       "    </tr>\n",
       "    <tr>\n",
       "      <th>Type of Hardness</th>\n",
       "      <td>0.081173</td>\n",
       "      <td>0.720518</td>\n",
       "      <td>-0.051475</td>\n",
       "      <td>-0.012953</td>\n",
       "      <td>-0.079327</td>\n",
       "      <td>-0.044695</td>\n",
       "      <td>-0.007251</td>\n",
       "      <td>-0.016187</td>\n",
       "      <td>0.000181</td>\n",
       "      <td>-0.027849</td>\n",
       "      <td>0.061518</td>\n",
       "      <td>1.000000</td>\n",
       "    </tr>\n",
       "  </tbody>\n",
       "</table>\n",
       "</div>\n",
       "      <button class=\"colab-df-convert\" onclick=\"convertToInteractive('df-6be4cbf6-2fe5-4d9d-8411-ae98c5ca1232')\"\n",
       "              title=\"Convert this dataframe to an interactive table.\"\n",
       "              style=\"display:none;\">\n",
       "        \n",
       "  <svg xmlns=\"http://www.w3.org/2000/svg\" height=\"24px\"viewBox=\"0 0 24 24\"\n",
       "       width=\"24px\">\n",
       "    <path d=\"M0 0h24v24H0V0z\" fill=\"none\"/>\n",
       "    <path d=\"M18.56 5.44l.94 2.06.94-2.06 2.06-.94-2.06-.94-.94-2.06-.94 2.06-2.06.94zm-11 1L8.5 8.5l.94-2.06 2.06-.94-2.06-.94L8.5 2.5l-.94 2.06-2.06.94zm10 10l.94 2.06.94-2.06 2.06-.94-2.06-.94-.94-2.06-.94 2.06-2.06.94z\"/><path d=\"M17.41 7.96l-1.37-1.37c-.4-.4-.92-.59-1.43-.59-.52 0-1.04.2-1.43.59L10.3 9.45l-7.72 7.72c-.78.78-.78 2.05 0 2.83L4 21.41c.39.39.9.59 1.41.59.51 0 1.02-.2 1.41-.59l7.78-7.78 2.81-2.81c.8-.78.8-2.07 0-2.86zM5.41 20L4 18.59l7.72-7.72 1.47 1.35L5.41 20z\"/>\n",
       "  </svg>\n",
       "      </button>\n",
       "      \n",
       "  <style>\n",
       "    .colab-df-container {\n",
       "      display:flex;\n",
       "      flex-wrap:wrap;\n",
       "      gap: 12px;\n",
       "    }\n",
       "\n",
       "    .colab-df-convert {\n",
       "      background-color: #E8F0FE;\n",
       "      border: none;\n",
       "      border-radius: 50%;\n",
       "      cursor: pointer;\n",
       "      display: none;\n",
       "      fill: #1967D2;\n",
       "      height: 32px;\n",
       "      padding: 0 0 0 0;\n",
       "      width: 32px;\n",
       "    }\n",
       "\n",
       "    .colab-df-convert:hover {\n",
       "      background-color: #E2EBFA;\n",
       "      box-shadow: 0px 1px 2px rgba(60, 64, 67, 0.3), 0px 1px 3px 1px rgba(60, 64, 67, 0.15);\n",
       "      fill: #174EA6;\n",
       "    }\n",
       "\n",
       "    [theme=dark] .colab-df-convert {\n",
       "      background-color: #3B4455;\n",
       "      fill: #D2E3FC;\n",
       "    }\n",
       "\n",
       "    [theme=dark] .colab-df-convert:hover {\n",
       "      background-color: #434B5C;\n",
       "      box-shadow: 0px 1px 3px 1px rgba(0, 0, 0, 0.15);\n",
       "      filter: drop-shadow(0px 1px 2px rgba(0, 0, 0, 0.3));\n",
       "      fill: #FFFFFF;\n",
       "    }\n",
       "  </style>\n",
       "\n",
       "      <script>\n",
       "        const buttonEl =\n",
       "          document.querySelector('#df-6be4cbf6-2fe5-4d9d-8411-ae98c5ca1232 button.colab-df-convert');\n",
       "        buttonEl.style.display =\n",
       "          google.colab.kernel.accessAllowed ? 'block' : 'none';\n",
       "\n",
       "        async function convertToInteractive(key) {\n",
       "          const element = document.querySelector('#df-6be4cbf6-2fe5-4d9d-8411-ae98c5ca1232');\n",
       "          const dataTable =\n",
       "            await google.colab.kernel.invokeFunction('convertToInteractive',\n",
       "                                                     [key], {});\n",
       "          if (!dataTable) return;\n",
       "\n",
       "          const docLinkHtml = 'Like what you see? Visit the ' +\n",
       "            '<a target=\"_blank\" href=https://colab.research.google.com/notebooks/data_table.ipynb>data table notebook</a>'\n",
       "            + ' to learn more about interactive tables.';\n",
       "          element.innerHTML = '';\n",
       "          dataTable['output_type'] = 'display_data';\n",
       "          await google.colab.output.renderOutput(dataTable, element);\n",
       "          const docLink = document.createElement('div');\n",
       "          docLink.innerHTML = docLinkHtml;\n",
       "          element.appendChild(docLink);\n",
       "        }\n",
       "      </script>\n",
       "    </div>\n",
       "  </div>\n",
       "  "
      ],
      "text/plain": [
       "                        ph  Hardness    Solids  Chloramines   Sulfate  \\\n",
       "ph                1.000000  0.082096 -0.089288    -0.034350  0.018203   \n",
       "Hardness          0.082096  1.000000 -0.046899    -0.030054 -0.106923   \n",
       "Solids           -0.089288 -0.046899  1.000000    -0.070148 -0.171804   \n",
       "Chloramines      -0.034350 -0.030054 -0.070148     1.000000  0.027244   \n",
       "Sulfate           0.018203 -0.106923 -0.171804     0.027244  1.000000   \n",
       "Conductivity      0.018614 -0.023915  0.013831    -0.020486 -0.016121   \n",
       "Organic_carbon    0.043503  0.003610  0.010242    -0.012653  0.030831   \n",
       "Trihalomethanes   0.003354 -0.013013 -0.009143     0.017084 -0.030274   \n",
       "Turbidity        -0.039057 -0.014449  0.019546     0.002363 -0.011187   \n",
       "Potability       -0.003556 -0.013837  0.033743     0.023779 -0.023577   \n",
       "Type of Water     0.092425  0.042998 -0.041538     0.027407 -0.020322   \n",
       "Type of Hardness  0.081173  0.720518 -0.051475    -0.012953 -0.079327   \n",
       "\n",
       "                  Conductivity  Organic_carbon  Trihalomethanes  Turbidity  \\\n",
       "ph                    0.018614        0.043503         0.003354  -0.039057   \n",
       "Hardness             -0.023915        0.003610        -0.013013  -0.014449   \n",
       "Solids                0.013831        0.010242        -0.009143   0.019546   \n",
       "Chloramines          -0.020486       -0.012653         0.017084   0.002363   \n",
       "Sulfate              -0.016121        0.030831        -0.030274  -0.011187   \n",
       "Conductivity          1.000000        0.020966         0.001285   0.005798   \n",
       "Organic_carbon        0.020966        1.000000        -0.013274  -0.027308   \n",
       "Trihalomethanes       0.001285       -0.013274         1.000000  -0.022145   \n",
       "Turbidity             0.005798       -0.027308        -0.022145   1.000000   \n",
       "Potability           -0.008128       -0.030001         0.007130   0.001581   \n",
       "Type of Water         0.004445        0.030657         0.002800   0.010611   \n",
       "Type of Hardness     -0.044695       -0.007251        -0.016187   0.000181   \n",
       "\n",
       "                  Potability  Type of Water  Type of Hardness  \n",
       "ph                 -0.003556       0.092425          0.081173  \n",
       "Hardness           -0.013837       0.042998          0.720518  \n",
       "Solids              0.033743      -0.041538         -0.051475  \n",
       "Chloramines         0.023779       0.027407         -0.012953  \n",
       "Sulfate            -0.023577      -0.020322         -0.079327  \n",
       "Conductivity       -0.008128       0.004445         -0.044695  \n",
       "Organic_carbon     -0.030001       0.030657         -0.007251  \n",
       "Trihalomethanes     0.007130       0.002800         -0.016187  \n",
       "Turbidity           0.001581       0.010611          0.000181  \n",
       "Potability          1.000000       0.059332         -0.027849  \n",
       "Type of Water       0.059332       1.000000          0.061518  \n",
       "Type of Hardness   -0.027849       0.061518          1.000000  "
      ]
     },
     "execution_count": 18,
     "metadata": {},
     "output_type": "execute_result"
    }
   ],
   "source": [
    "coa=df_waterpot.corr()\n",
    "coa"
   ]
  },
  {
   "cell_type": "code",
   "execution_count": null,
   "metadata": {
    "colab": {
     "base_uri": "https://localhost:8080/",
     "height": 591
    },
    "id": "XAoyHFKQrNr6",
    "outputId": "5a465608-526e-4901-ce1c-000bb6dd1e1c"
   },
   "outputs": [
    {
     "data": {
      "text/plain": [
       "<matplotlib.axes._subplots.AxesSubplot at 0x7f9d07cbbdd0>"
      ]
     },
     "execution_count": 19,
     "metadata": {},
     "output_type": "execute_result"
    },
    {
     "data": {
      "image/png": "[encoded data removed]",
      "text/plain": [
       "<Figure size 1152x576 with 2 Axes>"
      ]
     },
     "metadata": {},
     "output_type": "display_data"
    }
   ],
   "source": [
    "\n",
    "sns.set(rc = {'figure.figsize':(16,8)})\n",
    "sns.heatmap(df_waterpot.corr(), annot = True, fmt='.2g',cmap= 'coolwarm')"
   ]
  },
  {
   "cell_type": "markdown",
   "metadata": {
    "id": "ML1MiMXyLspA"
   },
   "source": [
    "From  above correlation graph we can say that there is no feature which is strongly correlated to the target column."
   ]
  },
  {
   "cell_type": "markdown",
   "metadata": {
    "id": "eb4usO3rin_E"
   },
   "source": [
    "### Missing  value treatment"
   ]
  },
  {
   "cell_type": "code",
   "execution_count": null,
   "metadata": {
    "colab": {
     "base_uri": "https://localhost:8080/"
    },
    "id": "r0xgGL9mhy53",
    "outputId": "c92f22f5-8763-4627-c7e3-ea3e67d1648c"
   },
   "outputs": [
    {
     "data": {
      "text/plain": [
       "ph                  491\n",
       "Hardness              0\n",
       "Solids                0\n",
       "Chloramines           0\n",
       "Sulfate             781\n",
       "Conductivity          0\n",
       "Organic_carbon        0\n",
       "Trihalomethanes     162\n",
       "Turbidity             0\n",
       "Potability            0\n",
       "Type of Water         0\n",
       "Type of Hardness      0\n",
       "dtype: int64"
      ]
     },
     "execution_count": 20,
     "metadata": {},
     "output_type": "execute_result"
    }
   ],
   "source": [
    "df_waterpot.isna().sum()"
   ]
  },
  {
   "cell_type": "markdown",
   "metadata": {
    "id": "8j1S7qG9sm2L"
   },
   "source": [
    "We will replace missing values in ph, sulphate and Trihalomethanes columns with mean of values "
   ]
  },
  {
   "cell_type": "code",
   "execution_count": null,
   "metadata": {
    "id": "qJNoDIFlh5PC"
   },
   "outputs": [],
   "source": [
    "meanofsul=df_waterpot['Sulfate'].mean()\n",
    "df_waterpot['Sulfate']=df_waterpot['Sulfate'].fillna(meanofsul)"
   ]
  },
  {
   "cell_type": "markdown",
   "metadata": {
    "id": "DRvZbV6ysGwy"
   },
   "source": [
    "### Replacing null values in the dataset with mean values depending on the hardness and potability."
   ]
  },
  {
   "cell_type": "code",
   "execution_count": null,
   "metadata": {
    "colab": {
     "base_uri": "https://localhost:8080/"
    },
    "id": "WkpDA0wPsFjD",
    "outputId": "3cb955fb-4b28-4905-ca87-52b09178dd2d"
   },
   "outputs": [
    {
     "data": {
      "text/plain": [
       "dtype('float64')"
      ]
     },
     "execution_count": 22,
     "metadata": {},
     "output_type": "execute_result"
    }
   ],
   "source": [
    "a=df_waterpot[(df_waterpot['Potability']==0) &(df_waterpot['Hardness']<=150)][['ph']].mean()\n",
    "b=df_waterpot[(df_waterpot['Potability']==0) &(df_waterpot['Hardness']>150)][['ph']].mean()\n",
    "c=df_waterpot[(df_waterpot['Potability']==1) &(df_waterpot['Hardness']<=150)][['ph']].mean()\n",
    "d=df_waterpot[(df_waterpot['Potability']==1) &(df_waterpot['Hardness']>150)][['ph']].mean()\n",
    "\n",
    "for i in range (len(df_waterpot)):\n",
    "  if(pd.isnull(df_waterpot['ph'][i])):\n",
    "    if((df_waterpot['Potability'][i]==0) and (df_waterpot['Hardness'][i]<=150)):\n",
    "      df_waterpot['ph'][i]=a\n",
    "    elif(df_waterpot['Potability'][i]==0) and (df_waterpot['Hardness'][i]>150):\n",
    "      df_waterpot['ph'][i]=b\n",
    "    elif(df_waterpot['Potability'][i]==1) and (df_waterpot['Hardness'][i]<=150):\n",
    "      df_waterpot['ph'][i]=c\n",
    "    elif(df_waterpot['Potability'][i]==1) and (df_waterpot['Hardness'][i]>150):\n",
    "      df_waterpot['ph'][i]=d\n",
    "df_waterpot['ph'].dtype"
   ]
  },
  {
   "cell_type": "code",
   "execution_count": null,
   "metadata": {
    "colab": {
     "base_uri": "https://localhost:8080/"
    },
    "id": "B0NGk_IVsm2T",
    "outputId": "f43f0461-c1c6-4255-f325-09d3176b64f8"
   },
   "outputs": [
    {
     "name": "stdout",
     "output_type": "stream",
     "text": [
      "66.39629294676803\n"
     ]
    }
   ],
   "source": [
    "meanoftri=df_waterpot['Trihalomethanes'].mean()\n",
    "print(meanoftri)\n",
    "df_waterpot['Trihalomethanes']=df_waterpot['Trihalomethanes'].fillna(meanoftri)"
   ]
  },
  {
   "cell_type": "code",
   "execution_count": null,
   "metadata": {
    "colab": {
     "base_uri": "https://localhost:8080/"
    },
    "id": "Y_50p1LUsm2U",
    "outputId": "264a250a-b5f1-4959-f7f5-e2a53f19f404"
   },
   "outputs": [
    {
     "data": {
      "text/plain": [
       "ph                  0\n",
       "Hardness            0\n",
       "Solids              0\n",
       "Chloramines         0\n",
       "Sulfate             0\n",
       "Conductivity        0\n",
       "Organic_carbon      0\n",
       "Trihalomethanes     0\n",
       "Turbidity           0\n",
       "Potability          0\n",
       "Type of Water       0\n",
       "Type of Hardness    0\n",
       "dtype: int64"
      ]
     },
     "execution_count": 24,
     "metadata": {},
     "output_type": "execute_result"
    }
   ],
   "source": [
    "df_waterpot.isna().sum()"
   ]
  },
  {
   "cell_type": "markdown",
   "metadata": {
    "id": "potcf1l1rqjG"
   },
   "source": [
    "###Insights about the dataset given"
   ]
  },
  {
   "cell_type": "code",
   "execution_count": null,
   "metadata": {
    "colab": {
     "base_uri": "https://localhost:8080/",
     "height": 503
    },
    "id": "dbtALuPJrobS",
    "outputId": "b54015e4-92ce-44ad-9e60-731fc2c83da3"
   },
   "outputs": [
    {
     "data": {
      "text/plain": [
       "<matplotlib.axes._subplots.AxesSubplot at 0x7f9d04248f10>"
      ]
     },
     "execution_count": 25,
     "metadata": {},
     "output_type": "execute_result"
    },
    {
     "data": {
      "image/png": "[encoded data removed]",
      "text/plain": [
       "<Figure size 1152x576 with 1 Axes>"
      ]
     },
     "metadata": {},
     "output_type": "display_data"
    }
   ],
   "source": [
    "df_waterpot.boxplot()\n"
   ]
  },
  {
   "cell_type": "markdown",
   "metadata": {
    "id": "-RmjUx1usdGG"
   },
   "source": [
    "From the above visualization we cannot get any insight about the dataset"
   ]
  },
  {
   "cell_type": "markdown",
   "metadata": {
    "id": "AA2q5JtnsGWO"
   },
   "source": [
    "Box plot after normalization using minmax scalar for the given dataset"
   ]
  },
  {
   "cell_type": "code",
   "execution_count": null,
   "metadata": {
    "colab": {
     "base_uri": "https://localhost:8080/",
     "height": 503
    },
    "id": "rVlNZ5Lc-wj6",
    "outputId": "96dc7fa0-e9c4-472c-c30e-3a9afb200feb"
   },
   "outputs": [
    {
     "data": {
      "text/plain": [
       "<matplotlib.axes._subplots.AxesSubplot at 0x7f9d040b1750>"
      ]
     },
     "execution_count": 26,
     "metadata": {},
     "output_type": "execute_result"
    },
    {
     "data": {
      "image/png": "[encoded data removed]",
      "text/plain": [
       "<Figure size 1152x576 with 1 Axes>"
      ]
     },
     "metadata": {},
     "output_type": "display_data"
    }
   ],
   "source": [
    "# create a scaler object\n",
    "scaler = MinMaxScaler()\n",
    "# fit and transform the data\n",
    "df_norm = pd.DataFrame(scaler.fit_transform(df_waterpot), columns=df_waterpot.columns)\n",
    "df_norm.boxplot()"
   ]
  },
  {
   "cell_type": "code",
   "execution_count": null,
   "metadata": {
    "colab": {
     "base_uri": "https://localhost:8080/",
     "height": 945
    },
    "id": "g4raDatDCOQi",
    "outputId": "bee5d342-e906-4b5d-8caa-b1dc8927adb9"
   },
   "outputs": [
    {
     "data": {
      "text/plain": [
       "array([[<matplotlib.axes._subplots.AxesSubplot object at 0x7f9d040b3850>,\n",
       "        <matplotlib.axes._subplots.AxesSubplot object at 0x7f9d03ddb490>,\n",
       "        <matplotlib.axes._subplots.AxesSubplot object at 0x7f9d03e0c8d0>],\n",
       "       [<matplotlib.axes._subplots.AxesSubplot object at 0x7f9d03dbfdd0>,\n",
       "        <matplotlib.axes._subplots.AxesSubplot object at 0x7f9d03d81310>,\n",
       "        <matplotlib.axes._subplots.AxesSubplot object at 0x7f9d03d36810>],\n",
       "       [<matplotlib.axes._subplots.AxesSubplot object at 0x7f9d03ce9d90>,\n",
       "        <matplotlib.axes._subplots.AxesSubplot object at 0x7f9d03caa210>,\n",
       "        <matplotlib.axes._subplots.AxesSubplot object at 0x7f9d03caa250>],\n",
       "       [<matplotlib.axes._subplots.AxesSubplot object at 0x7f9d03c5c850>,\n",
       "        <matplotlib.axes._subplots.AxesSubplot object at 0x7f9d03c51190>,\n",
       "        <matplotlib.axes._subplots.AxesSubplot object at 0x7f9d03c04690>]],\n",
       "      dtype=object)"
      ]
     },
     "execution_count": 27,
     "metadata": {},
     "output_type": "execute_result"
    },
    {
     "data": {
      "image/png": "[encoded data removed]",
      "text/plain": [
       "<Figure size 1008x864 with 12 Axes>"
      ]
     },
     "metadata": {},
     "output_type": "display_data"
    }
   ],
   "source": [
    "df_norm.hist(figsize=(14,12))"
   ]
  },
  {
   "cell_type": "markdown",
   "metadata": {
    "id": "OTCVBvfCDwGH"
   },
   "source": [
    "From above histograms we can say that data almost have bell shaped curves but it is skewed for conductivity and solids. "
   ]
  },
  {
   "cell_type": "code",
   "execution_count": null,
   "metadata": {
    "colab": {
     "base_uri": "https://localhost:8080/",
     "height": 206
    },
    "id": "t4MhmGmGe3KD",
    "outputId": "24664cdd-fc10-4b2d-d428-c329d58cf26b"
   },
   "outputs": [
    {
     "data": {
      "text/html": [
       "\n",
       "  <div id=\"df-3f1ec277-d5c3-4fbf-b2b2-242ae010b5af\">\n",
       "    <div class=\"colab-df-container\">\n",
       "      <div>\n",
       "<style scoped>\n",
       "    .dataframe tbody tr th:only-of-type {\n",
       "        vertical-align: middle;\n",
       "    }\n",
       "\n",
       "    .dataframe tbody tr th {\n",
       "        vertical-align: top;\n",
       "    }\n",
       "\n",
       "    .dataframe thead th {\n",
       "        text-align: right;\n",
       "    }\n",
       "</style>\n",
       "<table border=\"1\" class=\"dataframe\">\n",
       "  <thead>\n",
       "    <tr style=\"text-align: right;\">\n",
       "      <th></th>\n",
       "      <th>ph</th>\n",
       "      <th>Hardness</th>\n",
       "      <th>Solids</th>\n",
       "      <th>Chloramines</th>\n",
       "      <th>Sulfate</th>\n",
       "      <th>Conductivity</th>\n",
       "      <th>Organic_carbon</th>\n",
       "      <th>Trihalomethanes</th>\n",
       "      <th>Turbidity</th>\n",
       "      <th>Potability</th>\n",
       "      <th>Type of Water</th>\n",
       "      <th>Type of Hardness</th>\n",
       "    </tr>\n",
       "  </thead>\n",
       "  <tbody>\n",
       "    <tr>\n",
       "      <th>0</th>\n",
       "      <td>0.508037</td>\n",
       "      <td>0.571139</td>\n",
       "      <td>0.336096</td>\n",
       "      <td>0.543891</td>\n",
       "      <td>0.680385</td>\n",
       "      <td>0.669439</td>\n",
       "      <td>0.313402</td>\n",
       "      <td>0.699753</td>\n",
       "      <td>0.286091</td>\n",
       "      <td>0.0</td>\n",
       "      <td>0.0</td>\n",
       "      <td>1.0</td>\n",
       "    </tr>\n",
       "    <tr>\n",
       "      <th>1</th>\n",
       "      <td>0.265434</td>\n",
       "      <td>0.297400</td>\n",
       "      <td>0.300611</td>\n",
       "      <td>0.491839</td>\n",
       "      <td>0.581699</td>\n",
       "      <td>0.719411</td>\n",
       "      <td>0.497319</td>\n",
       "      <td>0.450999</td>\n",
       "      <td>0.576793</td>\n",
       "      <td>0.0</td>\n",
       "      <td>0.0</td>\n",
       "      <td>0.0</td>\n",
       "    </tr>\n",
       "    <tr>\n",
       "      <th>2</th>\n",
       "      <td>0.578509</td>\n",
       "      <td>0.641311</td>\n",
       "      <td>0.321619</td>\n",
       "      <td>0.698543</td>\n",
       "      <td>0.581699</td>\n",
       "      <td>0.414652</td>\n",
       "      <td>0.562017</td>\n",
       "      <td>0.532866</td>\n",
       "      <td>0.303637</td>\n",
       "      <td>0.0</td>\n",
       "      <td>0.4</td>\n",
       "      <td>1.0</td>\n",
       "    </tr>\n",
       "    <tr>\n",
       "      <th>3</th>\n",
       "      <td>0.594055</td>\n",
       "      <td>0.605536</td>\n",
       "      <td>0.356244</td>\n",
       "      <td>0.603314</td>\n",
       "      <td>0.647347</td>\n",
       "      <td>0.317880</td>\n",
       "      <td>0.622089</td>\n",
       "      <td>0.808065</td>\n",
       "      <td>0.601015</td>\n",
       "      <td>0.0</td>\n",
       "      <td>0.4</td>\n",
       "      <td>1.0</td>\n",
       "    </tr>\n",
       "    <tr>\n",
       "      <th>4</th>\n",
       "      <td>0.649445</td>\n",
       "      <td>0.484851</td>\n",
       "      <td>0.289922</td>\n",
       "      <td>0.484900</td>\n",
       "      <td>0.514545</td>\n",
       "      <td>0.379337</td>\n",
       "      <td>0.358555</td>\n",
       "      <td>0.253606</td>\n",
       "      <td>0.496327</td>\n",
       "      <td>0.0</td>\n",
       "      <td>0.2</td>\n",
       "      <td>1.0</td>\n",
       "    </tr>\n",
       "  </tbody>\n",
       "</table>\n",
       "</div>\n",
       "      <button class=\"colab-df-convert\" onclick=\"convertToInteractive('df-3f1ec277-d5c3-4fbf-b2b2-242ae010b5af')\"\n",
       "              title=\"Convert this dataframe to an interactive table.\"\n",
       "              style=\"display:none;\">\n",
       "        \n",
       "  <svg xmlns=\"http://www.w3.org/2000/svg\" height=\"24px\"viewBox=\"0 0 24 24\"\n",
       "       width=\"24px\">\n",
       "    <path d=\"M0 0h24v24H0V0z\" fill=\"none\"/>\n",
       "    <path d=\"M18.56 5.44l.94 2.06.94-2.06 2.06-.94-2.06-.94-.94-2.06-.94 2.06-2.06.94zm-11 1L8.5 8.5l.94-2.06 2.06-.94-2.06-.94L8.5 2.5l-.94 2.06-2.06.94zm10 10l.94 2.06.94-2.06 2.06-.94-2.06-.94-.94-2.06-.94 2.06-2.06.94z\"/><path d=\"M17.41 7.96l-1.37-1.37c-.4-.4-.92-.59-1.43-.59-.52 0-1.04.2-1.43.59L10.3 9.45l-7.72 7.72c-.78.78-.78 2.05 0 2.83L4 21.41c.39.39.9.59 1.41.59.51 0 1.02-.2 1.41-.59l7.78-7.78 2.81-2.81c.8-.78.8-2.07 0-2.86zM5.41 20L4 18.59l7.72-7.72 1.47 1.35L5.41 20z\"/>\n",
       "  </svg>\n",
       "      </button>\n",
       "      \n",
       "  <style>\n",
       "    .colab-df-container {\n",
       "      display:flex;\n",
       "      flex-wrap:wrap;\n",
       "      gap: 12px;\n",
       "    }\n",
       "\n",
       "    .colab-df-convert {\n",
       "      background-color: #E8F0FE;\n",
       "      border: none;\n",
       "      border-radius: 50%;\n",
       "      cursor: pointer;\n",
       "      display: none;\n",
       "      fill: #1967D2;\n",
       "      height: 32px;\n",
       "      padding: 0 0 0 0;\n",
       "      width: 32px;\n",
       "    }\n",
       "\n",
       "    .colab-df-convert:hover {\n",
       "      background-color: #E2EBFA;\n",
       "      box-shadow: 0px 1px 2px rgba(60, 64, 67, 0.3), 0px 1px 3px 1px rgba(60, 64, 67, 0.15);\n",
       "      fill: #174EA6;\n",
       "    }\n",
       "\n",
       "    [theme=dark] .colab-df-convert {\n",
       "      background-color: #3B4455;\n",
       "      fill: #D2E3FC;\n",
       "    }\n",
       "\n",
       "    [theme=dark] .colab-df-convert:hover {\n",
       "      background-color: #434B5C;\n",
       "      box-shadow: 0px 1px 3px 1px rgba(0, 0, 0, 0.15);\n",
       "      filter: drop-shadow(0px 1px 2px rgba(0, 0, 0, 0.3));\n",
       "      fill: #FFFFFF;\n",
       "    }\n",
       "  </style>\n",
       "\n",
       "      <script>\n",
       "        const buttonEl =\n",
       "          document.querySelector('#df-3f1ec277-d5c3-4fbf-b2b2-242ae010b5af button.colab-df-convert');\n",
       "        buttonEl.style.display =\n",
       "          google.colab.kernel.accessAllowed ? 'block' : 'none';\n",
       "\n",
       "        async function convertToInteractive(key) {\n",
       "          const element = document.querySelector('#df-3f1ec277-d5c3-4fbf-b2b2-242ae010b5af');\n",
       "          const dataTable =\n",
       "            await google.colab.kernel.invokeFunction('convertToInteractive',\n",
       "                                                     [key], {});\n",
       "          if (!dataTable) return;\n",
       "\n",
       "          const docLinkHtml = 'Like what you see? Visit the ' +\n",
       "            '<a target=\"_blank\" href=https://colab.research.google.com/notebooks/data_table.ipynb>data table notebook</a>'\n",
       "            + ' to learn more about interactive tables.';\n",
       "          element.innerHTML = '';\n",
       "          dataTable['output_type'] = 'display_data';\n",
       "          await google.colab.output.renderOutput(dataTable, element);\n",
       "          const docLink = document.createElement('div');\n",
       "          docLink.innerHTML = docLinkHtml;\n",
       "          element.appendChild(docLink);\n",
       "        }\n",
       "      </script>\n",
       "    </div>\n",
       "  </div>\n",
       "  "
      ],
      "text/plain": [
       "         ph  Hardness    Solids  Chloramines   Sulfate  Conductivity  \\\n",
       "0  0.508037  0.571139  0.336096     0.543891  0.680385      0.669439   \n",
       "1  0.265434  0.297400  0.300611     0.491839  0.581699      0.719411   \n",
       "2  0.578509  0.641311  0.321619     0.698543  0.581699      0.414652   \n",
       "3  0.594055  0.605536  0.356244     0.603314  0.647347      0.317880   \n",
       "4  0.649445  0.484851  0.289922     0.484900  0.514545      0.379337   \n",
       "\n",
       "   Organic_carbon  Trihalomethanes  Turbidity  Potability  Type of Water  \\\n",
       "0        0.313402         0.699753   0.286091         0.0            0.0   \n",
       "1        0.497319         0.450999   0.576793         0.0            0.0   \n",
       "2        0.562017         0.532866   0.303637         0.0            0.4   \n",
       "3        0.622089         0.808065   0.601015         0.0            0.4   \n",
       "4        0.358555         0.253606   0.496327         0.0            0.2   \n",
       "\n",
       "   Type of Hardness  \n",
       "0               1.0  \n",
       "1               0.0  \n",
       "2               1.0  \n",
       "3               1.0  \n",
       "4               1.0  "
      ]
     },
     "execution_count": 28,
     "metadata": {},
     "output_type": "execute_result"
    }
   ],
   "source": [
    "df_norm.head()"
   ]
  },
  {
   "cell_type": "code",
   "execution_count": null,
   "metadata": {
    "colab": {
     "base_uri": "https://localhost:8080/"
    },
    "id": "CVO9j8B9sm2R",
    "outputId": "5ea2790d-ff08-42dc-82e3-99e9c7423a46"
   },
   "outputs": [
    {
     "data": {
      "text/plain": [
       "ph                  0\n",
       "Hardness            0\n",
       "Solids              0\n",
       "Chloramines         0\n",
       "Sulfate             0\n",
       "Conductivity        0\n",
       "Organic_carbon      0\n",
       "Trihalomethanes     0\n",
       "Turbidity           0\n",
       "Potability          0\n",
       "Type of Water       0\n",
       "Type of Hardness    0\n",
       "dtype: int64"
      ]
     },
     "execution_count": 29,
     "metadata": {},
     "output_type": "execute_result"
    }
   ],
   "source": [
    "df_waterpot.isna().sum()"
   ]
  },
  {
   "cell_type": "markdown",
   "metadata": {
    "id": "datjwx1ogmHL"
   },
   "source": [
    "###removing potability column from data for training"
   ]
  },
  {
   "cell_type": "code",
   "execution_count": null,
   "metadata": {
    "id": "4m70FNucC7Hh"
   },
   "outputs": [],
   "source": [
    "target1=df_norm['Potability']\n",
    "df_norm=df_norm.drop('Potability',axis=1)"
   ]
  },
  {
   "cell_type": "markdown",
   "metadata": {
    "id": "vtfgGm5wsm2f"
   },
   "source": [
    "### Train and test data split\n",
    "\n",
    "Here we are splitting given dataset into 70% training and 30% testing.\n",
    "\n",
    "When splitting a dataset there are two competing concerns:\n",
    "-If you have less training data, your parameter estimates have greater variance.\n",
    "-And if you have less testing data, your performance statistic will have greater variance.\n",
    "\n",
    "So we are splitting data such that we get better accuracy while training and testing. We have tried different splits for the dataset . 30 percent of the dataset as a testing data we are getting better accuracy in testing and training.\n"
   ]
  },
  {
   "cell_type": "code",
   "execution_count": null,
   "metadata": {
    "id": "w8LGvExjsm2g"
   },
   "outputs": [],
   "source": [
    "from sklearn.model_selection import train_test_split,cross_val_score\n",
    "X_train, X_test, y_train, y_test=train_test_split(df_norm,target1,test_size=0.3,random_state=25)\n"
   ]
  },
  {
   "cell_type": "markdown",
   "metadata": {
    "id": "atswpqm9nNWo"
   },
   "source": [
    "###Importing the logistic regression from sklearn and fitting it to the current dataset\n"
   ]
  },
  {
   "cell_type": "markdown",
   "metadata": {
    "id": "yIduZFH-f2P_"
   },
   "source": [
    "####For L1 Penalty\n",
    "We have tried to fit the given dataset with different solvers but saga solver is giving best results. It is around 55 percent accuracy for other solvers and for saga solver it is around 60 percent accuracy in both testing and training. Below are the results.\n",
    "Saga Solver with tolerance of 0.01 is giving best result with L1 penalty."
   ]
  },
  {
   "cell_type": "code",
   "execution_count": null,
   "metadata": {
    "colab": {
     "base_uri": "https://localhost:8080/"
    },
    "id": "G_heh4JIsm2k",
    "outputId": "4f795e41-1ead-4145-d568-fc764f60b94c"
   },
   "outputs": [
    {
     "name": "stdout",
     "output_type": "stream",
     "text": [
      "C: 1\n",
      "Training accuracy: 0.6153510684692542\n",
      "Test accuracy: 0.6063072227873856\n",
      "[[590   3]\n",
      " [384   6]]\n",
      "               precision    recall  f1-score   support\n",
      "\n",
      "    0:potable       0.61      0.99      0.75       593\n",
      "1:not potable       0.67      0.02      0.03       390\n",
      "\n",
      "     accuracy                           0.61       983\n",
      "    macro avg       0.64      0.51      0.39       983\n",
      " weighted avg       0.63      0.61      0.47       983\n",
      "\n",
      "========================================================================\n",
      "C: 0.5\n",
      "Training accuracy: 0.6131705189707807\n",
      "Test accuracy: 0.602238046795524\n",
      "[[591   2]\n",
      " [389   1]]\n",
      "               precision    recall  f1-score   support\n",
      "\n",
      "    0:potable       0.60      1.00      0.75       593\n",
      "1:not potable       0.33      0.00      0.01       390\n",
      "\n",
      "     accuracy                           0.60       983\n",
      "    macro avg       0.47      0.50      0.38       983\n",
      " weighted avg       0.50      0.60      0.46       983\n",
      "\n",
      "========================================================================\n",
      "C: 0.1\n",
      "Training accuracy: 0.6127344090710859\n",
      "Test accuracy: 0.6032553407934893\n",
      "[[593   0]\n",
      " [390   0]]\n",
      "               precision    recall  f1-score   support\n",
      "\n",
      "    0:potable       0.60      1.00      0.75       593\n",
      "1:not potable       0.00      0.00      0.00       390\n",
      "\n",
      "     accuracy                           0.60       983\n",
      "    macro avg       0.30      0.50      0.38       983\n",
      " weighted avg       0.36      0.60      0.45       983\n",
      "\n",
      "========================================================================\n",
      "C: 0.01\n",
      "Training accuracy: 0.6127344090710859\n",
      "Test accuracy: 0.6032553407934893\n",
      "[[593   0]\n",
      " [390   0]]\n",
      "               precision    recall  f1-score   support\n",
      "\n",
      "    0:potable       0.60      1.00      0.75       593\n",
      "1:not potable       0.00      0.00      0.00       390\n",
      "\n",
      "     accuracy                           0.60       983\n",
      "    macro avg       0.30      0.50      0.38       983\n",
      " weighted avg       0.36      0.60      0.45       983\n",
      "\n",
      "========================================================================\n",
      "C: 0.003\n",
      "Training accuracy: 0.6127344090710859\n",
      "Test accuracy: 0.6032553407934893\n",
      "[[593   0]\n",
      " [390   0]]\n",
      "               precision    recall  f1-score   support\n",
      "\n",
      "    0:potable       0.60      1.00      0.75       593\n",
      "1:not potable       0.00      0.00      0.00       390\n",
      "\n",
      "     accuracy                           0.60       983\n",
      "    macro avg       0.30      0.50      0.38       983\n",
      " weighted avg       0.36      0.60      0.45       983\n",
      "\n",
      "========================================================================\n"
     ]
    }
   ],
   "source": [
    "C = [1,0.5,0.1,0.01,0.003]\n",
    "##Logistic regression with L1 penalty and C values\n",
    "for c in C:\n",
    "    clf1 = LogisticRegression(penalty='l1',C=c, tol=0.01,solver=\"saga\")\n",
    "    clf1.fit(X_train, y_train)\n",
    "    print('C:', c)\n",
    "    print('Training accuracy:', clf1.score(X_train, y_train))\n",
    "    print('Test accuracy:', clf1.score(X_test, y_test))\n",
    "    predicted_target=clf1.predict(X_test)\n",
    "    cf_matrix = confusion_matrix(y_test, predicted_target)\n",
    "    print(cf_matrix)\n",
    "    print(classification_report(y_test,predicted_target,target_names=['0:potable','1:not potable']))\n",
    "    print('========================================================================')"
   ]
  },
  {
   "cell_type": "markdown",
   "metadata": {
    "id": "-OK8lShxeSzc"
   },
   "source": [
    "#### For L2 penalty\n",
    "We have tried to fit the given dataset with different solvers but lbfgs solver is giving best results. It is around 55 percent accuracy for other solvers and lbfgs solver it is around 60 percent accuracy in both testing and training.Below are the results.\n",
    "lbfgs solver with tolerance of 0.01 is giving best result with L2 penalty."
   ]
  },
  {
   "cell_type": "code",
   "execution_count": null,
   "metadata": {
    "colab": {
     "base_uri": "https://localhost:8080/"
    },
    "id": "G0mDpyU3S3As",
    "outputId": "6d1a62db-0d5a-4198-8ee2-f5cadc6da4ce"
   },
   "outputs": [
    {
     "name": "stdout",
     "output_type": "stream",
     "text": [
      "Training accuracy: 0.6166593981683384\n",
      "Test accuracy: 0.6073245167853509\n",
      "[[587   6]\n",
      " [380  10]]\n",
      "               precision    recall  f1-score   support\n",
      "\n",
      "    0:potable       0.61      0.99      0.75       593\n",
      "1:not potable       0.62      0.03      0.05       390\n",
      "\n",
      "     accuracy                           0.61       983\n",
      "    macro avg       0.62      0.51      0.40       983\n",
      " weighted avg       0.61      0.61      0.47       983\n",
      "\n",
      "=========================================================\n",
      "Training accuracy: 0.6170955080680331\n",
      "Test accuracy: 0.6063072227873856\n",
      "[[590   3]\n",
      " [384   6]]\n",
      "               precision    recall  f1-score   support\n",
      "\n",
      "    0:potable       0.61      0.99      0.75       593\n",
      "1:not potable       0.67      0.02      0.03       390\n",
      "\n",
      "     accuracy                           0.61       983\n",
      "    macro avg       0.64      0.51      0.39       983\n",
      " weighted avg       0.63      0.61      0.47       983\n",
      "\n",
      "=========================================================\n",
      "Training accuracy: 0.6131705189707807\n",
      "Test accuracy: 0.6032553407934893\n",
      "[[593   0]\n",
      " [390   0]]\n",
      "               precision    recall  f1-score   support\n",
      "\n",
      "    0:potable       0.60      1.00      0.75       593\n",
      "1:not potable       0.00      0.00      0.00       390\n",
      "\n",
      "     accuracy                           0.60       983\n",
      "    macro avg       0.30      0.50      0.38       983\n",
      " weighted avg       0.36      0.60      0.45       983\n",
      "\n",
      "=========================================================\n",
      "Training accuracy: 0.6127344090710859\n",
      "Test accuracy: 0.6032553407934893\n",
      "[[593   0]\n",
      " [390   0]]\n",
      "               precision    recall  f1-score   support\n",
      "\n",
      "    0:potable       0.60      1.00      0.75       593\n",
      "1:not potable       0.00      0.00      0.00       390\n",
      "\n",
      "     accuracy                           0.60       983\n",
      "    macro avg       0.30      0.50      0.38       983\n",
      " weighted avg       0.36      0.60      0.45       983\n",
      "\n",
      "=========================================================\n",
      "Training accuracy: 0.6127344090710859\n",
      "Test accuracy: 0.6032553407934893\n",
      "[[593   0]\n",
      " [390   0]]\n",
      "               precision    recall  f1-score   support\n",
      "\n",
      "    0:potable       0.60      1.00      0.75       593\n",
      "1:not potable       0.00      0.00      0.00       390\n",
      "\n",
      "     accuracy                           0.60       983\n",
      "    macro avg       0.30      0.50      0.38       983\n",
      " weighted avg       0.36      0.60      0.45       983\n",
      "\n",
      "=========================================================\n"
     ]
    }
   ],
   "source": [
    "C = [1,0.5,0.1,0.01,0.003]\n",
    "\n",
    "#Logistic regression with L2 penalty with C values\n",
    "for c in C:\n",
    "    clf = LogisticRegression(penalty='l2', C=c, tol=0.01,solver='lbfgs')\n",
    "    clf.fit(X_train, y_train)\n",
    "    print('Training accuracy:', clf.score(X_train, y_train))\n",
    "    print('Test accuracy:', clf.score(X_test, y_test))\n",
    "    predicted_target=clf.predict(X_test)\n",
    "    cf_matrix = confusion_matrix(y_test, predicted_target)\n",
    "    print(cf_matrix)\n",
    "    print(classification_report(y_test,predicted_target,target_names=['0:potable','1:not potable']))\n",
    "    print('=========================================================')"
   ]
  },
  {
   "cell_type": "markdown",
   "metadata": {
    "id": "SxrR0f62dzDz"
   },
   "source": [
    "###Logistic regression with default parameters as below\n",
    ">>penalty='l2', *, dual=False, tol=0.0001, C=1.0, fit_intercept=True, intercept_scaling=1, class_weight=None, random_state=None, solver='lbfgs', max_iter=100, multi_class='auto', verbose=0, warm_start=False, n_jobs=None, l1_ratio=None"
   ]
  },
  {
   "cell_type": "code",
   "execution_count": null,
   "metadata": {
    "colab": {
     "base_uri": "https://localhost:8080/",
     "height": 558
    },
    "id": "JNb55Butsm2i",
    "outputId": "ea14e6b8-92dd-4a55-ab69-c7752175fd31"
   },
   "outputs": [
    {
     "name": "stdout",
     "output_type": "stream",
     "text": [
      "Training accuracy 0.6073245167853509\n",
      "Testing accuracy 1.0\n",
      "[[587   6]\n",
      " [380  10]]\n",
      "               precision    recall  f1-score   support\n",
      "\n",
      "    0:potable       0.61      0.99      0.75       593\n",
      "1:not potable       0.62      0.03      0.05       390\n",
      "\n",
      "     accuracy                           0.61       983\n",
      "    macro avg       0.62      0.51      0.40       983\n",
      " weighted avg       0.61      0.61      0.47       983\n",
      "\n"
     ]
    },
    {
     "data": {
      "text/plain": [
       "<sklearn.metrics._plot.confusion_matrix.ConfusionMatrixDisplay at 0x7f9d03f14910>"
      ]
     },
     "execution_count": 34,
     "metadata": {},
     "output_type": "execute_result"
    },
    {
     "data": {
      "image/png": "[encoded data removed]",
      "text/plain": [
       "<Figure size 360x360 with 2 Axes>"
      ]
     },
     "metadata": {},
     "output_type": "display_data"
    }
   ],
   "source": [
    "#using logitic regression which is default.\n",
    "\n",
    "#default parameters for the logistic regression.\n",
    "linearModel = LogisticRegression()\n",
    "linearModel.fit(X_train, y_train)\n",
    "# Evaluating the Linear Regression model\n",
    "print(\"Training accuracy\",linearModel.score(X_test, y_test))\n",
    "predicted_target=linearModel.predict(X_test)\n",
    "print(\"Testing accuracy\",linearModel.score(X_test,predicted_target))\n",
    "cf_matrix = confusion_matrix(y_test, predicted_target)\n",
    "print(cf_matrix)\n",
    "print(classification_report(y_test,predicted_target,target_names=['0:potable','1:not potable']))\n",
    "pyplot.rcParams[\"figure.figsize\"] = (5,5)\n",
    "cm = confusion_matrix(y_test, predicted_target, labels=linearModel.classes_)\n",
    "disp = ConfusionMatrixDisplay(confusion_matrix=cm,display_labels=linearModel.classes_)\n",
    "disp.plot()\n"
   ]
  },
  {
   "cell_type": "markdown",
   "metadata": {
    "id": "38rU5K1ObyFS"
   },
   "source": [
    "###Justification on results\n",
    "According to above result we can say that model is not overfitting or not underfitting the dataset ,We can see that testing accuracy and training accuracy is almost same. For the given dataset we have best results with the default parameters of the logistic regression and best model is the default model for training and testing.\n",
    "\n",
    "According to the above evaluation matrices.we can say that we have good testing ,training accuracy and precision and recall as expected."
   ]
  }
 ],
 "metadata": {
  "colab": {
   "collapsed_sections": [],
   "name": "Group143_WaterPotability.ipynb",
   "provenance": []
  },
  "kernelspec": {
   "display_name": "Python 3 (ipykernel)",
   "language": "python",
   "name": "python3"
  },
  "language_info": {
   "codemirror_mode": {
    "name": "ipython",
    "version": 3
   },
   "file_extension": ".py",
   "mimetype": "text/x-python",
   "name": "python",
   "nbconvert_exporter": "python",
   "pygments_lexer": "ipython3",
   "version": "3.9.7"
  }
 },
 "nbformat": 4,
 "nbformat_minor": 1
}
